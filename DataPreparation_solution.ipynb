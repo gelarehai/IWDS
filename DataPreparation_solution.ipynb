{
 "cells": [
  {
   "cell_type": "markdown",
   "metadata": {},
   "source": [
    "## Input Data##"
   ]
  },
  {
   "cell_type": "code",
   "execution_count": 35,
   "metadata": {},
   "outputs": [],
   "source": [
    "text = \"Here is an exercise. You will need to do all preprocessing steps on it.\""
   ]
  },
  {
   "cell_type": "markdown",
   "metadata": {},
   "source": [
    "## Data Preparation Steps ##"
   ]
  },
  {
   "cell_type": "markdown",
   "metadata": {},
   "source": [
    "### Step 1: Tokenisation  ###"
   ]
  },
  {
   "cell_type": "code",
   "execution_count": 36,
   "metadata": {},
   "outputs": [],
   "source": [
    "import nltk\n",
    "tokenizer = nltk.tokenize.WhitespaceTokenizer()\n",
    "tokenized_sentene =tokenizer.tokenize(text)"
   ]
  },
  {
   "cell_type": "markdown",
   "metadata": {},
   "source": [
    "### Step 2: Stemming ###\n"
   ]
  },
  {
   "cell_type": "code",
   "execution_count": 37,
   "metadata": {},
   "outputs": [
    {
     "name": "stdout",
     "output_type": "stream",
     "text": [
      "here\n",
      "is\n",
      "an\n",
      "exercise.\n",
      "you\n",
      "will\n",
      "need\n",
      "to\n",
      "do\n",
      "all\n",
      "preprocess\n",
      "step\n",
      "on\n",
      "it.\n"
     ]
    }
   ],
   "source": [
    "import nltk\n",
    "from nltk.stem import PorterStemmer\n",
    "stemmer = PorterStemmer()\n",
    "for token in tokenized_sentene:\n",
    "    print (stemmer.stem(token))"
   ]
  },
  {
   "cell_type": "markdown",
   "metadata": {},
   "source": [
    "### Step 1: Lemmatization  ###"
   ]
  },
  {
   "cell_type": "code",
   "execution_count": 38,
   "metadata": {},
   "outputs": [
    {
     "name": "stdout",
     "output_type": "stream",
     "text": [
      "Here\n",
      "is\n",
      "an\n",
      "exercise.\n",
      "You\n",
      "will\n",
      "need\n",
      "to\n",
      "do\n",
      "all\n",
      "preprocessing\n",
      "step\n",
      "on\n",
      "it.\n"
     ]
    }
   ],
   "source": [
    "import nltk\n",
    "from nltk.stem import WordNetLemmatizer\n",
    "lemmatizer = WordNetLemmatizer()\n",
    "for token in tokenized_sentene:\n",
    "    print (lemmatizer.lemmatize(token))\n"
   ]
  },
  {
   "cell_type": "markdown",
   "metadata": {},
   "source": [
    "### more normalization steps? (optional)  ###"
   ]
  },
  {
   "cell_type": "code",
   "execution_count": 39,
   "metadata": {},
   "outputs": [
    {
     "name": "stdout",
     "output_type": "stream",
     "text": [
      "here\n",
      "is\n",
      "an\n",
      "exercise.\n",
      "you\n",
      "will\n",
      "need\n",
      "to\n",
      "do\n",
      "all\n",
      "preprocessing\n",
      "steps\n",
      "on\n",
      "it.\n"
     ]
    }
   ],
   "source": [
    "#lower casing all tokens in the tokenized_sentene\n",
    "for token in tokenized_sentene:\n",
    "    print (token.lower())\n"
   ]
  },
  {
   "cell_type": "code",
   "execution_count": 40,
   "metadata": {},
   "outputs": [
    {
     "name": "stdout",
     "output_type": "stream",
     "text": [
      "here\n",
      "is\n",
      "an\n",
      "exercise.\n",
      "you\n",
      "will\n",
      "need\n",
      "to\n",
      "do\n",
      "all\n",
      "preprocessing\n",
      "steps\n",
      "on\n",
      "it.\n"
     ]
    }
   ],
   "source": [
    "for token in tokenized_sentene:\n",
    "    print (token.lower())"
   ]
  },
  {
   "cell_type": "code",
   "execution_count": null,
   "metadata": {},
   "outputs": [],
   "source": []
  }
 ],
 "metadata": {
  "kernelspec": {
   "display_name": "Python 3",
   "language": "python",
   "name": "python3"
  },
  "language_info": {
   "codemirror_mode": {
    "name": "ipython",
    "version": 3
   },
   "file_extension": ".py",
   "mimetype": "text/x-python",
   "name": "python",
   "nbconvert_exporter": "python",
   "pygments_lexer": "ipython3",
   "version": "3.7.1"
  }
 },
 "nbformat": 4,
 "nbformat_minor": 2
}
